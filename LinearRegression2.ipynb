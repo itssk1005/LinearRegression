{
 "cells": [
  {
   "cell_type": "code",
   "execution_count": 1,
   "id": "similar-nepal",
   "metadata": {},
   "outputs": [],
   "source": [
    "import numpy as np \n",
    "import pandas as pd \n",
    "import matplotlib.pyplot as plt"
   ]
  },
  {
   "cell_type": "code",
   "execution_count": 2,
   "id": "capable-northwest",
   "metadata": {},
   "outputs": [],
   "source": [
    "data = pd.read_csv(\"HappinessAlcoholConsumption.csv\")"
   ]
  },
  {
   "cell_type": "code",
   "execution_count": 3,
   "id": "greenhouse-cycling",
   "metadata": {},
   "outputs": [],
   "source": [
    "use_data = data[[\"HDI\", \"HappinessScore\"]]"
   ]
  },
  {
   "cell_type": "code",
   "execution_count": 4,
   "id": "selective-sitting",
   "metadata": {},
   "outputs": [],
   "source": [
    "matrix = np.array(use_data.values, \"float\")"
   ]
  },
  {
   "cell_type": "code",
   "execution_count": 8,
   "id": "starting-baseball",
   "metadata": {},
   "outputs": [],
   "source": [
    "y = matrix[:,0]\n",
    "x = matrix[:,1]\n",
    "x = x/np.max(x)\n"
   ]
  },
  {
   "cell_type": "code",
   "execution_count": 17,
   "id": "moved-sixth",
   "metadata": {},
   "outputs": [],
   "source": [
    "x = x.reshape([122,1])\n",
    "X = np.hstack([np.ones_like(x), x])"
   ]
  },
  {
   "cell_type": "code",
   "execution_count": 22,
   "id": "linear-nation",
   "metadata": {},
   "outputs": [],
   "source": [
    "order = np.random.permutation(len(X))\n",
    "portion = 40 \n",
    "\n",
    "train_x = X[order[:portion]]\n",
    "train_y = y[order[:portion]]\n",
    "test_x  = X[order[:portion]]\n",
    "test_y  = y[order[:portion]]"
   ]
  },
  {
   "cell_type": "code",
   "execution_count": 30,
   "id": "bright-entry",
   "metadata": {},
   "outputs": [],
   "source": [
    "def gradient(x, y, w):\n",
    "    y_estimate = x.dot(w).flatten()\n",
    "    error = y.flatten() - y_estimate.flatten()\n",
    "    gradient = - (0.1 / len(x))*(error.dot(x))\n",
    "    return gradient, error"
   ]
  },
  {
   "cell_type": "code",
   "execution_count": 31,
   "id": "minus-editor",
   "metadata": {},
   "outputs": [
    {
     "ename": "TypeError",
     "evalue": "'numpy.ndarray' object is not callable",
     "output_type": "error",
     "traceback": [
      "\u001b[1;31m---------------------------------------------------------------------------\u001b[0m",
      "\u001b[1;31mTypeError\u001b[0m                                 Traceback (most recent call last)",
      "\u001b[1;32m<ipython-input-31-ba3fead249b0>\u001b[0m in \u001b[0;36m<module>\u001b[1;34m\u001b[0m\n\u001b[0;32m      4\u001b[0m \u001b[0miterations\u001b[0m \u001b[1;33m=\u001b[0m \u001b[1;36m1\u001b[0m\u001b[1;33m\u001b[0m\u001b[1;33m\u001b[0m\u001b[0m\n\u001b[0;32m      5\u001b[0m \u001b[1;32mwhile\u001b[0m \u001b[1;32mTrue\u001b[0m\u001b[1;33m:\u001b[0m\u001b[1;33m\u001b[0m\u001b[1;33m\u001b[0m\u001b[0m\n\u001b[1;32m----> 6\u001b[1;33m     \u001b[0mgradient\u001b[0m\u001b[1;33m,\u001b[0m \u001b[0merror\u001b[0m \u001b[1;33m=\u001b[0m \u001b[0mgradient\u001b[0m\u001b[1;33m(\u001b[0m\u001b[0mtrain_x\u001b[0m\u001b[1;33m,\u001b[0m \u001b[0mtrain_y\u001b[0m\u001b[1;33m,\u001b[0m \u001b[0mw\u001b[0m\u001b[1;33m)\u001b[0m\u001b[1;33m\u001b[0m\u001b[1;33m\u001b[0m\u001b[0m\n\u001b[0m\u001b[0;32m      7\u001b[0m     \u001b[0mnew_w\u001b[0m \u001b[1;33m=\u001b[0m \u001b[0mw\u001b[0m \u001b[1;33m-\u001b[0m \u001b[0malpha\u001b[0m\u001b[1;33m*\u001b[0m\u001b[0mgradient\u001b[0m\u001b[1;33m\u001b[0m\u001b[1;33m\u001b[0m\u001b[0m\n\u001b[0;32m      8\u001b[0m \u001b[1;33m\u001b[0m\u001b[0m\n",
      "\u001b[1;31mTypeError\u001b[0m: 'numpy.ndarray' object is not callable"
     ]
    }
   ],
   "source": [
    "w = np.random.randn(2)\n",
    "alpha = 0.5\n",
    "tolerance = 1e-5\n",
    "iterations = 1\n",
    "while True:\n",
    "    gradient, error = gradient(train_x, train_y, w)\n",
    "    new_w = w - alpha*gradient\n",
    "    \n",
    "    if np.sum(abs(new_w-w))<tolerance :\n",
    "        break\n",
    "    if iterations%100==0 :\n",
    "        print(iterations, error)\n",
    "        \n",
    "    iterations+=1\n",
    "    w = new_w\n",
    "        "
   ]
  },
  {
   "cell_type": "code",
   "execution_count": null,
   "id": "particular-insight",
   "metadata": {},
   "outputs": [],
   "source": []
  }
 ],
 "metadata": {
  "kernelspec": {
   "display_name": "Python 3",
   "language": "python",
   "name": "python3"
  },
  "language_info": {
   "codemirror_mode": {
    "name": "ipython",
    "version": 3
   },
   "file_extension": ".py",
   "mimetype": "text/x-python",
   "name": "python",
   "nbconvert_exporter": "python",
   "pygments_lexer": "ipython3",
   "version": "3.9.2"
  }
 },
 "nbformat": 4,
 "nbformat_minor": 5
}
